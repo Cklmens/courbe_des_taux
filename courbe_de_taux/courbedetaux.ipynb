{
 "cells": [
  {
   "cell_type": "code",
   "execution_count": 1,
   "metadata": {},
   "outputs": [],
   "source": [
    "import pandas as pd \n",
    "import numpy as np \n",
    "from datetime import date, datetime\n",
    "from yahoo_fin import options as op  \n",
    "import yfinance as yf\n",
    "import math as ma\n",
    "from scipy.optimize import minimize,least_squares\n",
    "import matplotlib.pyplot as plt\n",
    "import csv"
   ]
  },
  {
   "cell_type": "code",
   "execution_count": 13,
   "metadata": {},
   "outputs": [
    {
     "data": {
      "text/html": [
       "<div>\n",
       "<style scoped>\n",
       "    .dataframe tbody tr th:only-of-type {\n",
       "        vertical-align: middle;\n",
       "    }\n",
       "\n",
       "    .dataframe tbody tr th {\n",
       "        vertical-align: top;\n",
       "    }\n",
       "\n",
       "    .dataframe thead th {\n",
       "        text-align: right;\n",
       "    }\n",
       "</style>\n",
       "<table border=\"1\" class=\"dataframe\">\n",
       "  <thead>\n",
       "    <tr style=\"text-align: right;\">\n",
       "      <th></th>\n",
       "      <th>Date echeance</th>\n",
       "      <th>Transaction</th>\n",
       "      <th>taux</th>\n",
       "      <th>Date valeur</th>\n",
       "      <th>days</th>\n",
       "    </tr>\n",
       "  </thead>\n",
       "  <tbody>\n",
       "    <tr>\n",
       "      <th>0</th>\n",
       "      <td>2023-10-16</td>\n",
       "      <td>-</td>\n",
       "      <td>0.0297</td>\n",
       "      <td>2023-08-23</td>\n",
       "      <td>54</td>\n",
       "    </tr>\n",
       "    <tr>\n",
       "      <th>1</th>\n",
       "      <td>2024-01-15</td>\n",
       "      <td>-</td>\n",
       "      <td>0.0302</td>\n",
       "      <td>2023-08-23</td>\n",
       "      <td>145</td>\n",
       "    </tr>\n",
       "    <tr>\n",
       "      <th>2</th>\n",
       "      <td>2024-03-18</td>\n",
       "      <td>-</td>\n",
       "      <td>0.0308</td>\n",
       "      <td>2023-08-23</td>\n",
       "      <td>208</td>\n",
       "    </tr>\n",
       "    <tr>\n",
       "      <th>3</th>\n",
       "      <td>2024-11-19</td>\n",
       "      <td>-</td>\n",
       "      <td>0.0338</td>\n",
       "      <td>2023-08-28</td>\n",
       "      <td>449</td>\n",
       "    </tr>\n",
       "    <tr>\n",
       "      <th>4</th>\n",
       "      <td>2027-05-17</td>\n",
       "      <td>-</td>\n",
       "      <td>0.0368</td>\n",
       "      <td>2023-08-23</td>\n",
       "      <td>1363</td>\n",
       "    </tr>\n",
       "    <tr>\n",
       "      <th>5</th>\n",
       "      <td>2030-06-17</td>\n",
       "      <td>-</td>\n",
       "      <td>0.0390</td>\n",
       "      <td>2023-08-23</td>\n",
       "      <td>2490</td>\n",
       "    </tr>\n",
       "    <tr>\n",
       "      <th>6</th>\n",
       "      <td>2032-06-14</td>\n",
       "      <td>-</td>\n",
       "      <td>0.0407</td>\n",
       "      <td>2023-08-23</td>\n",
       "      <td>3218</td>\n",
       "    </tr>\n",
       "    <tr>\n",
       "      <th>7</th>\n",
       "      <td>2036-07-14</td>\n",
       "      <td>-</td>\n",
       "      <td>0.0440</td>\n",
       "      <td>2023-08-23</td>\n",
       "      <td>4709</td>\n",
       "    </tr>\n",
       "    <tr>\n",
       "      <th>8</th>\n",
       "      <td>2040-04-16</td>\n",
       "      <td>-</td>\n",
       "      <td>0.0473</td>\n",
       "      <td>2023-08-23</td>\n",
       "      <td>6081</td>\n",
       "    </tr>\n",
       "    <tr>\n",
       "      <th>9</th>\n",
       "      <td>2051-02-20</td>\n",
       "      <td>-</td>\n",
       "      <td>0.0530</td>\n",
       "      <td>2023-08-23</td>\n",
       "      <td>10043</td>\n",
       "    </tr>\n",
       "  </tbody>\n",
       "</table>\n",
       "</div>"
      ],
      "text/plain": [
       "  Date echeance Transaction   taux  Date valeur   days\n",
       "0    2023-10-16           -  0.0297  2023-08-23     54\n",
       "1    2024-01-15           -  0.0302  2023-08-23    145\n",
       "2    2024-03-18           -  0.0308  2023-08-23    208\n",
       "3    2024-11-19           -  0.0338  2023-08-28    449\n",
       "4    2027-05-17           -  0.0368  2023-08-23   1363\n",
       "5    2030-06-17           -  0.0390  2023-08-23   2490\n",
       "6    2032-06-14           -  0.0407  2023-08-23   3218\n",
       "7    2036-07-14           -  0.0440  2023-08-23   4709\n",
       "8    2040-04-16           -  0.0473  2023-08-23   6081\n",
       "9    2051-02-20           -  0.0530  2023-08-23  10043"
      ]
     },
     "execution_count": 13,
     "metadata": {},
     "output_type": "execute_result"
    }
   ],
   "source": [
    "#files= pd.read_csv(\"taux_tresor.csv\", delimiter=\",\")\n",
    "data = pd.read_excel(\"taux_tresor_ex.xlsx\")\n",
    "\n",
    "data[\"days\"]=(data[\"Date echeance\"]-data[\"Date valeur\"])\n",
    "#convert days into int\n",
    "data[\"days\"]=data[\"days\"].dt.total_seconds() /(3600*24)\n",
    "data[\"days\"]=data[\"days\"].astype(int)\n",
    "data"
   ]
  },
  {
   "cell_type": "code",
   "execution_count": 3,
   "metadata": {},
   "outputs": [
    {
     "data": {
      "text/plain": [
       "[<matplotlib.lines.Line2D at 0x1ed32291a20>]"
      ]
     },
     "execution_count": 3,
     "metadata": {},
     "output_type": "execute_result"
    },
    {
     "data": {
      "image/png": "[encoded data removed]",
      "text/plain": [
       "<Figure size 640x480 with 1 Axes>"
      ]
     },
     "metadata": {},
     "output_type": "display_data"
    }
   ],
   "source": [
    "plt.plot(data[\"days\"], data[\"taux \"])\n"
   ]
  },
  {
   "cell_type": "code",
   "execution_count": 4,
   "metadata": {},
   "outputs": [],
   "source": [
    "def interpolation_lineaire(x, a, b):\n",
    "    # methode de lagrange\n",
    "    return (b[1]*(x-a[0]) -b[0]*(x-a[1]))/ (a[1]- a[0])\n",
    "\n",
    "def interpolation_lineaire(a, b):\n",
    "    # methode de lagrange\n",
    "    r=np.ones((2*len(a)-1,2))\n",
    "    for i in range((len(a)-1)):\n",
    "        r[2*i][0]=a[i]\n",
    "        r[2*i+1][0]= (a[i]+a[i+1])/2\n",
    "        r[2*i][1]=b[i]\n",
    "        r[2*i+1][1]= (b[i+1]*((-a[i]+a[i+1])/2) -b[i]*((a[i]-a[i+1])/2))/ (a[i+1]- a[i])\n",
    "    r[2*len(a)-2][0]=a[len(a)-1]\n",
    "    r[2*len(a)-2][1]=b[len(a)-1]  \n",
    "    return r\n",
    "\n"
   ]
  },
  {
   "cell_type": "code",
   "execution_count": 12,
   "metadata": {},
   "outputs": [
    {
     "data": {
      "text/plain": [
       "(array([1, 2, 3, 4, 5, 6, 7, 8, 9], dtype=int64),)"
      ]
     },
     "execution_count": 12,
     "metadata": {},
     "output_type": "execute_result"
    },
    {
     "data": {
      "image/png": "[encoded data removed]",
      "text/plain": [
       "<Figure size 640x480 with 1 Axes>"
      ]
     },
     "metadata": {},
     "output_type": "display_data"
    }
   ],
   "source": [
    "rt= interpolation_lineaire(data[\"days\"], data[\"taux \"]).T\n",
    "plt.plot(rt[0],rt[1])\n",
    "rt\n",
    "np.where((data[\"days\"]-100)>0)\n"
   ]
  },
  {
   "cell_type": "code",
   "execution_count": 6,
   "metadata": {},
   "outputs": [],
   "source": [
    "def interpolation_splinecubique_1(A, B):\n",
    "    \"\"\" a t^3 +b t^2 + ct +d = r\n",
    "        a t^3 +b t^2 + ct +d = r\n",
    "        a t^3 +b t^2 + ct +d = r\n",
    "        a t^3 +b t^2 + ct +d = r \"\"\"\n",
    "    a=b=c=d=0\n",
    "    # method de gauss seidel\n",
    "    for i in range(500):\n",
    "        a =( B[3]-b*A[3]**2-c*A[3]-d)/ ma.pow(A[3],3)\n",
    "        b=( B[2]-a*ma.pow(A[2],3)-c*A[2]-d)/ A[2]**2\n",
    "        c=( B[1]-b*A[1]**2-a*ma.pow(A[1],3)-d)/ A[1]\n",
    "        d=( B[0]-ma.pow(A[0],3)*a -b*A[0]**2-c*A[0])\n",
    "\n",
    "    return (a,b,c,d)\n"
   ]
  },
  {
   "cell_type": "code",
   "execution_count": 7,
   "metadata": {},
   "outputs": [
    {
     "data": {
      "text/plain": [
       "array([[5.40000000e+01, 2.97000000e-02],\n",
       "       [1.04000000e+02, 2.99123200e-02],\n",
       "       [1.54000000e+02, 3.02750547e-02],\n",
       "       [2.04000000e+02, 3.07569488e-02],\n",
       "       [2.54000000e+02, 3.13267470e-02],\n",
       "       [3.04000000e+02, 3.19531937e-02],\n",
       "       [3.54000000e+02, 3.26050338e-02],\n",
       "       [4.04000000e+02, 3.32510117e-02],\n",
       "       [4.49000000e+02, 3.38000000e-02],\n",
       "       [4.99000000e+02, 3.40189645e-02],\n",
       "       [5.49000000e+02, 3.42303179e-02],\n",
       "       [5.99000000e+02, 3.44342930e-02],\n",
       "       [6.49000000e+02, 3.46311224e-02],\n",
       "       [6.99000000e+02, 3.48210388e-02],\n",
       "       [7.49000000e+02, 3.50042751e-02],\n",
       "       [7.99000000e+02, 3.51810637e-02],\n",
       "       [8.49000000e+02, 3.53516376e-02],\n",
       "       [8.99000000e+02, 3.55162294e-02],\n",
       "       [9.49000000e+02, 3.56750717e-02],\n",
       "       [9.99000000e+02, 3.58283974e-02],\n",
       "       [1.04900000e+03, 3.59764391e-02],\n",
       "       [1.09900000e+03, 3.61194295e-02],\n",
       "       [1.14900000e+03, 3.62576014e-02],\n",
       "       [1.19900000e+03, 3.63911874e-02],\n",
       "       [1.24900000e+03, 3.65204203e-02],\n",
       "       [1.29900000e+03, 3.66455328e-02],\n",
       "       [1.34900000e+03, 3.67667575e-02],\n",
       "       [1.39900000e+03, 3.68843273e-02],\n",
       "       [1.44900000e+03, 3.69984747e-02],\n",
       "       [1.49900000e+03, 3.71094326e-02],\n",
       "       [1.54900000e+03, 3.72174336e-02],\n",
       "       [1.59900000e+03, 3.73227104e-02],\n",
       "       [1.64900000e+03, 3.74254958e-02],\n",
       "       [1.69900000e+03, 3.75260225e-02],\n",
       "       [1.74900000e+03, 3.76245231e-02],\n",
       "       [1.79900000e+03, 3.77212303e-02],\n",
       "       [1.84900000e+03, 3.78163770e-02],\n",
       "       [1.89900000e+03, 3.79101958e-02],\n",
       "       [1.94900000e+03, 3.80029194e-02],\n",
       "       [1.99900000e+03, 3.80947805e-02],\n",
       "       [2.04900000e+03, 3.81860118e-02],\n",
       "       [2.09900000e+03, 3.82768461e-02],\n",
       "       [2.14900000e+03, 3.83675160e-02],\n",
       "       [2.19900000e+03, 3.84582543e-02],\n",
       "       [2.24900000e+03, 3.85492936e-02],\n",
       "       [2.29900000e+03, 3.86408667e-02],\n",
       "       [2.34900000e+03, 3.87332064e-02],\n",
       "       [2.39900000e+03, 3.88265452e-02],\n",
       "       [2.44900000e+03, 3.89211159e-02],\n",
       "       [2.49900000e+03, 3.90171513e-02],\n",
       "       [2.54900000e+03, 3.91148840e-02],\n",
       "       [2.59900000e+03, 3.92145467e-02],\n",
       "       [2.64900000e+03, 3.93163722e-02],\n",
       "       [2.69900000e+03, 3.94205931e-02],\n",
       "       [2.74900000e+03, 3.95274423e-02],\n",
       "       [2.79900000e+03, 3.96371523e-02],\n",
       "       [2.84900000e+03, 3.97499559e-02],\n",
       "       [2.89900000e+03, 3.98660858e-02],\n",
       "       [2.94900000e+03, 3.99857747e-02],\n",
       "       [2.99900000e+03, 4.01092554e-02],\n",
       "       [3.04900000e+03, 4.02367604e-02],\n",
       "       [3.09900000e+03, 4.03685227e-02],\n",
       "       [3.14900000e+03, 4.05047748e-02],\n",
       "       [3.19900000e+03, 4.06457494e-02],\n",
       "       [3.21800000e+03, 4.07000000e-02],\n",
       "       [3.26800000e+03, 4.08021227e-02],\n",
       "       [3.31800000e+03, 4.09050947e-02],\n",
       "       [3.36800000e+03, 4.10088933e-02],\n",
       "       [3.41800000e+03, 4.11134959e-02],\n",
       "       [3.46800000e+03, 4.12188799e-02],\n",
       "       [3.51800000e+03, 4.13250229e-02],\n",
       "       [3.56800000e+03, 4.14319021e-02],\n",
       "       [3.61800000e+03, 4.15394950e-02],\n",
       "       [3.66800000e+03, 4.16477789e-02],\n",
       "       [3.71800000e+03, 4.17567314e-02],\n",
       "       [3.76800000e+03, 4.18663299e-02],\n",
       "       [3.81800000e+03, 4.19765516e-02],\n",
       "       [3.86800000e+03, 4.20873741e-02],\n",
       "       [3.91800000e+03, 4.21987748e-02],\n",
       "       [3.96800000e+03, 4.23107310e-02],\n",
       "       [4.01800000e+03, 4.24232202e-02],\n",
       "       [4.06800000e+03, 4.25362198e-02],\n",
       "       [4.11800000e+03, 4.26497072e-02],\n",
       "       [4.16800000e+03, 4.27636598e-02],\n",
       "       [4.21800000e+03, 4.28780551e-02],\n",
       "       [4.26800000e+03, 4.29928704e-02],\n",
       "       [4.31800000e+03, 4.31080831e-02],\n",
       "       [4.36800000e+03, 4.32236707e-02],\n",
       "       [4.41800000e+03, 4.33396106e-02],\n",
       "       [4.46800000e+03, 4.34558802e-02],\n",
       "       [4.51800000e+03, 4.35724569e-02],\n",
       "       [4.56800000e+03, 4.36893181e-02],\n",
       "       [4.61800000e+03, 4.38064412e-02],\n",
       "       [4.66800000e+03, 4.39238037e-02],\n",
       "       [4.71800000e+03, 4.40413829e-02],\n",
       "       [4.76800000e+03, 4.41591562e-02],\n",
       "       [4.81800000e+03, 4.42771012e-02],\n",
       "       [4.86800000e+03, 4.43951951e-02],\n",
       "       [4.91800000e+03, 4.45134154e-02],\n",
       "       [4.96800000e+03, 4.46317396e-02],\n",
       "       [5.01800000e+03, 4.47501449e-02],\n",
       "       [5.06800000e+03, 4.48686089e-02],\n",
       "       [5.11800000e+03, 4.49871090e-02],\n",
       "       [5.16800000e+03, 4.51056225e-02],\n",
       "       [5.21800000e+03, 4.52241268e-02],\n",
       "       [5.26800000e+03, 4.53425995e-02],\n",
       "       [5.31800000e+03, 4.54610178e-02],\n",
       "       [5.36800000e+03, 4.55793592e-02],\n",
       "       [5.41800000e+03, 4.56976012e-02],\n",
       "       [5.46800000e+03, 4.58157211e-02],\n",
       "       [5.51800000e+03, 4.59336963e-02],\n",
       "       [5.56800000e+03, 4.60515043e-02],\n",
       "       [5.61800000e+03, 4.61691224e-02],\n",
       "       [5.66800000e+03, 4.62865281e-02],\n",
       "       [5.71800000e+03, 4.64036988e-02],\n",
       "       [5.76800000e+03, 4.65206119e-02],\n",
       "       [5.81800000e+03, 4.66372449e-02],\n",
       "       [5.86800000e+03, 4.67535750e-02],\n",
       "       [5.91800000e+03, 4.68695798e-02],\n",
       "       [5.96800000e+03, 4.69852366e-02],\n",
       "       [6.01800000e+03, 4.71005229e-02],\n",
       "       [6.06800000e+03, 4.72154161e-02],\n",
       "       [6.11800000e+03, 4.73298935e-02],\n",
       "       [6.16800000e+03, 4.74439326e-02],\n",
       "       [6.21800000e+03, 4.75575109e-02],\n",
       "       [6.26800000e+03, 4.76706057e-02],\n",
       "       [6.31800000e+03, 4.77831944e-02],\n",
       "       [6.36800000e+03, 4.78952544e-02],\n",
       "       [6.41800000e+03, 4.80067632e-02],\n",
       "       [6.46800000e+03, 4.81176982e-02],\n",
       "       [6.51800000e+03, 4.82280367e-02],\n",
       "       [6.56800000e+03, 4.83377563e-02],\n",
       "       [6.61800000e+03, 4.84468342e-02],\n",
       "       [6.66800000e+03, 4.85552480e-02],\n",
       "       [6.71800000e+03, 4.86629750e-02],\n",
       "       [6.76800000e+03, 4.87699926e-02],\n",
       "       [6.81800000e+03, 4.88762783e-02],\n",
       "       [6.86800000e+03, 4.89818094e-02],\n",
       "       [6.91800000e+03, 4.90865634e-02],\n",
       "       [6.96800000e+03, 4.91905178e-02],\n",
       "       [7.01800000e+03, 4.92936498e-02],\n",
       "       [7.06800000e+03, 4.93959369e-02],\n",
       "       [7.11800000e+03, 4.94973565e-02],\n",
       "       [7.16800000e+03, 4.95978861e-02],\n",
       "       [7.21800000e+03, 4.96975030e-02],\n",
       "       [7.26800000e+03, 4.97961847e-02],\n",
       "       [7.31800000e+03, 4.98939086e-02],\n",
       "       [7.36800000e+03, 4.99906520e-02],\n",
       "       [7.41800000e+03, 5.00863924e-02],\n",
       "       [7.46800000e+03, 5.01811073e-02],\n",
       "       [7.51800000e+03, 5.02747739e-02],\n",
       "       [7.56800000e+03, 5.03673698e-02],\n",
       "       [7.61800000e+03, 5.04588724e-02],\n",
       "       [7.66800000e+03, 5.05492589e-02],\n",
       "       [7.71800000e+03, 5.06385070e-02],\n",
       "       [7.76800000e+03, 5.07265939e-02],\n",
       "       [7.81800000e+03, 5.08134972e-02],\n",
       "       [7.86800000e+03, 5.08991941e-02],\n",
       "       [7.91800000e+03, 5.09836621e-02],\n",
       "       [7.96800000e+03, 5.10668787e-02],\n",
       "       [8.01800000e+03, 5.11488212e-02],\n",
       "       [8.06800000e+03, 5.12294671e-02],\n",
       "       [8.11800000e+03, 5.13087937e-02],\n",
       "       [8.16800000e+03, 5.13867785e-02],\n",
       "       [8.21800000e+03, 5.14633989e-02],\n",
       "       [8.26800000e+03, 5.15386322e-02],\n",
       "       [8.31800000e+03, 5.16124560e-02],\n",
       "       [8.36800000e+03, 5.16848476e-02],\n",
       "       [8.41800000e+03, 5.17557845e-02],\n",
       "       [8.46800000e+03, 5.18252440e-02],\n",
       "       [8.51800000e+03, 5.18932035e-02],\n",
       "       [8.56800000e+03, 5.19596406e-02],\n",
       "       [8.61800000e+03, 5.20245325e-02],\n",
       "       [8.66800000e+03, 5.20878567e-02],\n",
       "       [8.71800000e+03, 5.21495906e-02],\n",
       "       [8.76800000e+03, 5.22097116e-02],\n",
       "       [8.81800000e+03, 5.22681972e-02],\n",
       "       [8.86800000e+03, 5.23250247e-02],\n",
       "       [8.91800000e+03, 5.23801715e-02],\n",
       "       [8.96800000e+03, 5.24336151e-02],\n",
       "       [9.01800000e+03, 5.24853329e-02],\n",
       "       [9.06800000e+03, 5.25353023e-02],\n",
       "       [9.11800000e+03, 5.25835007e-02],\n",
       "       [9.16800000e+03, 5.26299055e-02],\n",
       "       [9.21800000e+03, 5.26744941e-02],\n",
       "       [9.26800000e+03, 5.27172440e-02],\n",
       "       [9.31800000e+03, 5.27581325e-02],\n",
       "       [9.36800000e+03, 5.27971371e-02],\n",
       "       [9.41800000e+03, 5.28342351e-02],\n",
       "       [9.46800000e+03, 5.28694040e-02],\n",
       "       [9.51800000e+03, 5.29026213e-02],\n",
       "       [9.56800000e+03, 5.29338642e-02],\n",
       "       [9.61800000e+03, 5.29631103e-02],\n",
       "       [9.66800000e+03, 5.29903369e-02],\n",
       "       [9.71800000e+03, 5.30155214e-02],\n",
       "       [9.76800000e+03, 5.30386413e-02],\n",
       "       [9.81800000e+03, 5.30596740e-02],\n",
       "       [9.86800000e+03, 5.30785968e-02],\n",
       "       [9.91800000e+03, 5.30953873e-02],\n",
       "       [9.96800000e+03, 5.31100227e-02],\n",
       "       [1.00180000e+04, 5.31224806e-02]])"
      ]
     },
     "execution_count": 7,
     "metadata": {},
     "output_type": "execute_result"
    }
   ],
   "source": [
    "\n",
    "def interpolation_splinecubique(A, B):\n",
    "    \"\"\" a t^3 +b t^2 + ct +d = r\n",
    "        a t^3 +b t^2 + ct +d = r\n",
    "        a t^3 +b t^2 + ct +d = r\n",
    "        a t^3 +b t^2 + ct +d = r \"\"\"\n",
    "    step=50\n",
    "    #A is a Pandas\n",
    "    rt=np.zeros((len(np.arange(A[0],A.iloc[-1]+step,step)),2))\n",
    "    # method de gauss seidel\n",
    "    n=0\n",
    "    for u in np.arange(0,len(A)-3,3):\n",
    "        a=b=c=d=0\n",
    "        for i in range(100):\n",
    "            a =( B[u+3]-b*A[u+3]**2-c*A[u+3]-d)/ ma.pow(A[u+3],3)\n",
    "            b=( B[u+2]-a*ma.pow(A[u+2],3)-c*A[u+2]-d)/ A[u+2]**2\n",
    "            c=( B[u+1]-b*A[u+1]**2-a*ma.pow(A[u+1],3)-d)/ A[u+1]\n",
    "            d=( B[u]-ma.pow(A[u],3)*a -b*A[u]**2-c*A[u])\n",
    "       \n",
    "        for j in np.arange(A[u],A[u+3],step):\n",
    "            #np.append(np.zeros(len(np.arange(A[u],A[u+3],step))),rt)\n",
    "            rt[n][0]=j\n",
    "            rt[n][1]=a*ma.pow(j,3) +b*ma.pow(j,2) + c*j +d \n",
    "            n=n+1\n",
    "    \n",
    "    return rt \n",
    "\n",
    "interpolation_splinecubique(data[\"days\"], data[\"taux \"])    "
   ]
  },
  {
   "cell_type": "code",
   "execution_count": 8,
   "metadata": {},
   "outputs": [
    {
     "data": {
      "text/plain": [
       "[<matplotlib.lines.Line2D at 0x1ed32310160>]"
      ]
     },
     "execution_count": 8,
     "metadata": {},
     "output_type": "execute_result"
    },
    {
     "data": {
      "image/png": "[encoded data removed]",
      "text/plain": [
       "<Figure size 640x480 with 1 Axes>"
      ]
     },
     "metadata": {},
     "output_type": "display_data"
    }
   ],
   "source": [
    "rt = interpolation_splinecubique(data[\"days\"], data[\"taux \"]).T\n",
    "plt.plot(rt[0],rt[1])"
   ]
  },
  {
   "cell_type": "code",
   "execution_count": 2,
   "metadata": {},
   "outputs": [
    {
     "data": {
      "text/html": [
       "<div>\n",
       "<style scoped>\n",
       "    .dataframe tbody tr th:only-of-type {\n",
       "        vertical-align: middle;\n",
       "    }\n",
       "\n",
       "    .dataframe tbody tr th {\n",
       "        vertical-align: top;\n",
       "    }\n",
       "\n",
       "    .dataframe thead th {\n",
       "        text-align: right;\n",
       "    }\n",
       "</style>\n",
       "<table border=\"1\" class=\"dataframe\">\n",
       "  <thead>\n",
       "    <tr style=\"text-align: right;\">\n",
       "      <th></th>\n",
       "      <th>Date echeance</th>\n",
       "      <th>Transaction</th>\n",
       "      <th>taux</th>\n",
       "      <th>Date valeur</th>\n",
       "      <th>days</th>\n",
       "    </tr>\n",
       "  </thead>\n",
       "  <tbody>\n",
       "    <tr>\n",
       "      <th>0</th>\n",
       "      <td>2023-10-16</td>\n",
       "      <td>-</td>\n",
       "      <td>0.0297</td>\n",
       "      <td>2023-08-23</td>\n",
       "      <td>0.147945</td>\n",
       "    </tr>\n",
       "    <tr>\n",
       "      <th>1</th>\n",
       "      <td>2024-01-15</td>\n",
       "      <td>-</td>\n",
       "      <td>0.0302</td>\n",
       "      <td>2023-08-23</td>\n",
       "      <td>0.397260</td>\n",
       "    </tr>\n",
       "    <tr>\n",
       "      <th>2</th>\n",
       "      <td>2024-03-18</td>\n",
       "      <td>-</td>\n",
       "      <td>0.0308</td>\n",
       "      <td>2023-08-23</td>\n",
       "      <td>0.569863</td>\n",
       "    </tr>\n",
       "    <tr>\n",
       "      <th>3</th>\n",
       "      <td>2024-11-19</td>\n",
       "      <td>-</td>\n",
       "      <td>0.0338</td>\n",
       "      <td>2023-08-28</td>\n",
       "      <td>1.230137</td>\n",
       "    </tr>\n",
       "    <tr>\n",
       "      <th>4</th>\n",
       "      <td>2027-05-17</td>\n",
       "      <td>-</td>\n",
       "      <td>0.0368</td>\n",
       "      <td>2023-08-23</td>\n",
       "      <td>3.734247</td>\n",
       "    </tr>\n",
       "    <tr>\n",
       "      <th>5</th>\n",
       "      <td>2030-06-17</td>\n",
       "      <td>-</td>\n",
       "      <td>0.0390</td>\n",
       "      <td>2023-08-23</td>\n",
       "      <td>6.821918</td>\n",
       "    </tr>\n",
       "    <tr>\n",
       "      <th>6</th>\n",
       "      <td>2032-06-14</td>\n",
       "      <td>-</td>\n",
       "      <td>0.0407</td>\n",
       "      <td>2023-08-23</td>\n",
       "      <td>8.816438</td>\n",
       "    </tr>\n",
       "    <tr>\n",
       "      <th>7</th>\n",
       "      <td>2036-07-14</td>\n",
       "      <td>-</td>\n",
       "      <td>0.0440</td>\n",
       "      <td>2023-08-23</td>\n",
       "      <td>12.901370</td>\n",
       "    </tr>\n",
       "    <tr>\n",
       "      <th>8</th>\n",
       "      <td>2040-04-16</td>\n",
       "      <td>-</td>\n",
       "      <td>0.0473</td>\n",
       "      <td>2023-08-23</td>\n",
       "      <td>16.660274</td>\n",
       "    </tr>\n",
       "    <tr>\n",
       "      <th>9</th>\n",
       "      <td>2051-02-20</td>\n",
       "      <td>-</td>\n",
       "      <td>0.0530</td>\n",
       "      <td>2023-08-23</td>\n",
       "      <td>27.515068</td>\n",
       "    </tr>\n",
       "  </tbody>\n",
       "</table>\n",
       "</div>"
      ],
      "text/plain": [
       "  Date echeance Transaction   taux  Date valeur       days\n",
       "0    2023-10-16           -  0.0297  2023-08-23   0.147945\n",
       "1    2024-01-15           -  0.0302  2023-08-23   0.397260\n",
       "2    2024-03-18           -  0.0308  2023-08-23   0.569863\n",
       "3    2024-11-19           -  0.0338  2023-08-28   1.230137\n",
       "4    2027-05-17           -  0.0368  2023-08-23   3.734247\n",
       "5    2030-06-17           -  0.0390  2023-08-23   6.821918\n",
       "6    2032-06-14           -  0.0407  2023-08-23   8.816438\n",
       "7    2036-07-14           -  0.0440  2023-08-23  12.901370\n",
       "8    2040-04-16           -  0.0473  2023-08-23  16.660274\n",
       "9    2051-02-20           -  0.0530  2023-08-23  27.515068"
      ]
     },
     "execution_count": 2,
     "metadata": {},
     "output_type": "execute_result"
    }
   ],
   "source": [
    "data = pd.read_excel(\"taux_tresor_ex.xlsx\")\n",
    "\n",
    "data[\"days\"]=(data[\"Date echeance\"]-data[\"Date valeur\"])\n",
    "#convert days into int\n",
    "data[\"days\"]=data[\"days\"].dt.total_seconds() /(3600*24)\n",
    "data[\"days\"]=data[\"days\"].astype(int)/365\n",
    "data"
   ]
  },
  {
   "cell_type": "markdown",
   "metadata": {},
   "source": [
    "Model de Nels-siegel-svensson "
   ]
  },
  {
   "cell_type": "code",
   "execution_count": 18,
   "metadata": {},
   "outputs": [],
   "source": [
    "#Paramètre du modèle\n",
    "beta0 = data[\"taux \"].max()\n",
    "beta1 =data[\"taux \"].max()-data[\"taux \"].min()\n",
    "beta2=2*data[\"taux \"].mean()-data[\"taux \"].max()-data[\"taux \"].min()\n",
    "beta3=beta2\n",
    "#Paramètres d'échelle\n",
    "alpha1=5\n",
    "alpha2=5\n",
    "\n",
    "parms=[beta0,beta1,beta2,beta3,alpha1,alpha2]"
   ]
  },
  {
   "cell_type": "code",
   "execution_count": 19,
   "metadata": {},
   "outputs": [],
   "source": [
    "#Nelson Siegel Svensson model\n",
    "def  NSS_model(t,parms):\n",
    "    return parms[0]+parms[1]*((1-np.exp(-t/parms[4]))/(t/parms[4]))+parms[2]*(((1-np.exp(-t/parms[4]))/(t/parms[4]))-np.exp(-t/parms[4]))+parms[3]*(((1-np.exp(-t/parms[5]))/(t/parms[5]))-np.exp(-t/parms[5]))\n"
   ]
  },
  {
   "cell_type": "code",
   "execution_count": 20,
   "metadata": {},
   "outputs": [
    {
     "data": {
      "text/plain": [
       "[0.054113170365469684,\n",
       " 0.053414482758623455,\n",
       " 0.0532889423076923,\n",
       " 0.05313385300668152,\n",
       " 0.053044093910491565,\n",
       " 0.05302413654618474,\n",
       " 0.053018676196395276,\n",
       " 0.053012762794648546,\n",
       " 0.053009883242887676,\n",
       " 0.0530059842676491]"
      ]
     },
     "execution_count": 20,
     "metadata": {},
     "output_type": "execute_result"
    }
   ],
   "source": [
    "def list_taux_(ti, tf,parms):\n",
    "    taux_=[]\n",
    "    for i in range(ti,tf+1):\n",
    "        taux_.append(NSS_model(i,parms))\n",
    "    return taux_  \n",
    "\n",
    "def list_taux(days,parms):\n",
    "    taux_=[]\n",
    "    for i in days:\n",
    "        taux_.append(NSS_model(i,parms))\n",
    "    return taux_    \n",
    "        \n",
    "\n",
    "list_taux(data['days'], parms)"
   ]
  },
  {
   "cell_type": "code",
   "execution_count": 21,
   "metadata": {},
   "outputs": [
    {
     "data": {
      "text/plain": [
       "[<matplotlib.lines.Line2D at 0x1ed3462fb50>]"
      ]
     },
     "execution_count": 21,
     "metadata": {},
     "output_type": "execute_result"
    },
    {
     "data": {
      "image/png": "[encoded data removed]",
      "text/plain": [
       "<Figure size 640x480 with 1 Axes>"
      ]
     },
     "metadata": {},
     "output_type": "display_data"
    }
   ],
   "source": [
    "plt.scatter(data[\"days\"], list_taux(data['days'], parms))\n",
    "plt.plot(data[\"days\"], list_taux(data['days'], parms))"
   ]
  },
  {
   "cell_type": "markdown",
   "metadata": {},
   "source": [
    "Optimisation of the error"
   ]
  },
  {
   "cell_type": "code",
   "execution_count": 22,
   "metadata": {},
   "outputs": [
    {
     "data": {
      "text/plain": [
       "0.0027405949669685624"
      ]
     },
     "execution_count": 22,
     "metadata": {},
     "output_type": "execute_result"
    }
   ],
   "source": [
    "#standard squared error\n",
    "def SSE_(predict_rate, real_rate):\n",
    "    err=(predict_rate-real_rate)**2\n",
    "    return np.sum(err)\n",
    "\n",
    "def SSE(parms):\n",
    "    err=(list_taux(data['days'], parms)-data[\"taux \"])**2\n",
    "    return np.sum(err)\n",
    "\n",
    "#SSE(list_taux(data['days'], parms), data[\"taux \"])\n",
    "SSE(parms)"
   ]
  },
  {
   "cell_type": "code",
   "execution_count": 30,
   "metadata": {},
   "outputs": [
    {
     "data": {
      "text/plain": [
       "(array([ 0.04155372, -0.03936477, -0.06829637, -0.06829664,  4.9999045 ,\n",
       "         5.00013348]),\n",
       " 0.0003204771460116402)"
      ]
     },
     "execution_count": 30,
     "metadata": {},
     "output_type": "execute_result"
    }
   ],
   "source": [
    "constraint = ({'type': 'ineq', 'fun': lambda parms: parms[5] },  # Contrainte parms[5] > 0\n",
    "               {'type': 'ineq', 'fun': lambda parms:parms[4]-1})\n",
    "op= minimize(SSE,parms, constraints=constraint, tol=0.00001)\n",
    "op.x,op.fun"
   ]
  },
  {
   "cell_type": "code",
   "execution_count": null,
   "metadata": {},
   "outputs": [],
   "source": []
  },
  {
   "cell_type": "code",
   "execution_count": 32,
   "metadata": {},
   "outputs": [
    {
     "data": {
      "text/plain": [
       "[0.02526447052597408,\n",
       " 0.03548621525116581,\n",
       " 0.03732396810599701,\n",
       " 0.03959427862013227,\n",
       " 0.04090823785839813,\n",
       " 0.04120038834024895,\n",
       " 0.04128032093042169,\n",
       " 0.04136688562619639,\n",
       " 0.04140903860900098,\n",
       " 0.04146611465757941]"
      ]
     },
     "execution_count": 32,
     "metadata": {},
     "output_type": "execute_result"
    },
    {
     "data": {
      "image/png": "[encoded data removed]",
      "text/plain": [
       "<Figure size 640x480 with 1 Axes>"
      ]
     },
     "metadata": {},
     "output_type": "display_data"
    }
   ],
   "source": [
    "list_taux(data['days'], op.x)\n",
    "plt.scatter(data[\"days\"], list_taux(data['days'], op.x))\n",
    "plt.plot(list_taux_(data['days'].iloc[0],data['days'].iloc[-1], op.x))\n",
    "list_taux_(data['days'].iloc[0],data['days'].iloc[-1], op.x)\n",
    "list_taux(data['days'], op.x)\n",
    "#plt.plot(data[\"days\"], data[\"taux \"])"
   ]
  },
  {
   "cell_type": "markdown",
   "metadata": {},
   "source": [
    "Spline cubique"
   ]
  },
  {
   "cell_type": "code",
   "execution_count": 4,
   "metadata": {},
   "outputs": [],
   "source": [
    "\n"
   ]
  },
  {
   "cell_type": "code",
   "execution_count": 29,
   "metadata": {},
   "outputs": [
    {
     "name": "stdout",
     "output_type": "stream",
     "text": [
      "0    0.147945\n",
      "1    0.397260\n",
      "2    0.569863\n",
      "Name: days, dtype: float64\n",
      "3    1.230137\n",
      "4    3.734247\n",
      "5    6.821918\n",
      "Name: days, dtype: float64\n"
     ]
    },
    {
     "ename": "KeyError",
     "evalue": "0",
     "output_type": "error",
     "traceback": [
      "\u001b[1;31m---------------------------------------------------------------------------\u001b[0m",
      "\u001b[1;31mValueError\u001b[0m                                Traceback (most recent call last)",
      "File \u001b[1;32mc:\\Users\\hp\\AppData\\Local\\Programs\\Python\\Python310\\lib\\site-packages\\pandas\\core\\indexes\\range.py:391\u001b[0m, in \u001b[0;36mRangeIndex.get_loc\u001b[1;34m(self, key, method, tolerance)\u001b[0m\n\u001b[0;32m    390\u001b[0m \u001b[39mtry\u001b[39;00m:\n\u001b[1;32m--> 391\u001b[0m     \u001b[39mreturn\u001b[39;00m \u001b[39mself\u001b[39;49m\u001b[39m.\u001b[39;49m_range\u001b[39m.\u001b[39;49mindex(new_key)\n\u001b[0;32m    392\u001b[0m \u001b[39mexcept\u001b[39;00m \u001b[39mValueError\u001b[39;00m \u001b[39mas\u001b[39;00m err:\n",
      "\u001b[1;31mValueError\u001b[0m: 0 is not in range",
      "\nThe above exception was the direct cause of the following exception:\n",
      "\u001b[1;31mKeyError\u001b[0m                                  Traceback (most recent call last)",
      "\u001b[1;32mc:\\Users\\hp\\Documents\\Python_Scripts\\courbe de taux\\courbedetaux.ipynb Cell 22\u001b[0m line \u001b[0;36m2\n\u001b[0;32m     <a href='vscode-notebook-cell:/c%3A/Users/hp/Documents/Python_Scripts/courbe%20de%20taux/courbedetaux.ipynb#X44sZmlsZQ%3D%3D?line=20'>21</a>\u001b[0m     \u001b[39mreturn\u001b[39;00m np\u001b[39m.\u001b[39msum(err)\n\u001b[0;32m     <a href='vscode-notebook-cell:/c%3A/Users/hp/Documents/Python_Scripts/courbe%20de%20taux/courbedetaux.ipynb#X44sZmlsZQ%3D%3D?line=22'>23</a>\u001b[0m parms\u001b[39m=\u001b[39m np\u001b[39m.\u001b[39mones(\u001b[39m5\u001b[39m\u001b[39m*\u001b[39m\u001b[39m4\u001b[39m)\u001b[39m*\u001b[39m\u001b[39m-\u001b[39m\u001b[39m0.01\u001b[39m\n\u001b[1;32m---> <a href='vscode-notebook-cell:/c%3A/Users/hp/Documents/Python_Scripts/courbe%20de%20taux/courbedetaux.ipynb#X44sZmlsZQ%3D%3D?line=23'>24</a>\u001b[0m spline\u001b[39m=\u001b[39mtaux_predict(data[\u001b[39m\"\u001b[39;49m\u001b[39mdays\u001b[39;49m\u001b[39m\"\u001b[39;49m]\u001b[39m/\u001b[39;49m\u001b[39m365\u001b[39;49m ,parms)\n\u001b[0;32m     <a href='vscode-notebook-cell:/c%3A/Users/hp/Documents/Python_Scripts/courbe%20de%20taux/courbedetaux.ipynb#X44sZmlsZQ%3D%3D?line=24'>25</a>\u001b[0m plt\u001b[39m.\u001b[39mscatter(spline[\u001b[39m1\u001b[39m],spline[\u001b[39m0\u001b[39m])\n\u001b[0;32m     <a href='vscode-notebook-cell:/c%3A/Users/hp/Documents/Python_Scripts/courbe%20de%20taux/courbedetaux.ipynb#X44sZmlsZQ%3D%3D?line=25'>26</a>\u001b[0m plt\u001b[39m.\u001b[39mplot(spline[\u001b[39m1\u001b[39m],spline[\u001b[39m0\u001b[39m])\n",
      "\u001b[1;32mc:\\Users\\hp\\Documents\\Python_Scripts\\courbe de taux\\courbedetaux.ipynb Cell 22\u001b[0m line \u001b[0;36m1\n\u001b[0;32m     <a href='vscode-notebook-cell:/c%3A/Users/hp/Documents/Python_Scripts/courbe%20de%20taux/courbedetaux.ipynb#X44sZmlsZQ%3D%3D?line=12'>13</a>\u001b[0m   \u001b[39mfor\u001b[39;00m i \u001b[39min\u001b[39;00m \u001b[39mrange\u001b[39m(\u001b[39m3\u001b[39m):\n\u001b[0;32m     <a href='vscode-notebook-cell:/c%3A/Users/hp/Documents/Python_Scripts/courbe%20de%20taux/courbedetaux.ipynb#X44sZmlsZQ%3D%3D?line=13'>14</a>\u001b[0m     rate\u001b[39m.\u001b[39mappend(\u001b[39m0\u001b[39m)\u001b[39m#splineCubique(tmp[i],temp, tmp[1],tmp[2])\u001b[39;00m\n\u001b[1;32m---> <a href='vscode-notebook-cell:/c%3A/Users/hp/Documents/Python_Scripts/courbe%20de%20taux/courbedetaux.ipynb#X44sZmlsZQ%3D%3D?line=14'>15</a>\u001b[0m     time\u001b[39m.\u001b[39mappend(tmp[i])\n\u001b[0;32m     <a href='vscode-notebook-cell:/c%3A/Users/hp/Documents/Python_Scripts/courbe%20de%20taux/courbedetaux.ipynb#X44sZmlsZQ%3D%3D?line=16'>17</a>\u001b[0m \u001b[39mreturn\u001b[39;00m[rate,time]\n",
      "File \u001b[1;32mc:\\Users\\hp\\AppData\\Local\\Programs\\Python\\Python310\\lib\\site-packages\\pandas\\core\\series.py:981\u001b[0m, in \u001b[0;36mSeries.__getitem__\u001b[1;34m(self, key)\u001b[0m\n\u001b[0;32m    978\u001b[0m     \u001b[39mreturn\u001b[39;00m \u001b[39mself\u001b[39m\u001b[39m.\u001b[39m_values[key]\n\u001b[0;32m    980\u001b[0m \u001b[39melif\u001b[39;00m key_is_scalar:\n\u001b[1;32m--> 981\u001b[0m     \u001b[39mreturn\u001b[39;00m \u001b[39mself\u001b[39;49m\u001b[39m.\u001b[39;49m_get_value(key)\n\u001b[0;32m    983\u001b[0m \u001b[39mif\u001b[39;00m is_hashable(key):\n\u001b[0;32m    984\u001b[0m     \u001b[39m# Otherwise index.get_value will raise InvalidIndexError\u001b[39;00m\n\u001b[0;32m    985\u001b[0m     \u001b[39mtry\u001b[39;00m:\n\u001b[0;32m    986\u001b[0m         \u001b[39m# For labels that don't resolve as scalars like tuples and frozensets\u001b[39;00m\n",
      "File \u001b[1;32mc:\\Users\\hp\\AppData\\Local\\Programs\\Python\\Python310\\lib\\site-packages\\pandas\\core\\series.py:1089\u001b[0m, in \u001b[0;36mSeries._get_value\u001b[1;34m(self, label, takeable)\u001b[0m\n\u001b[0;32m   1086\u001b[0m     \u001b[39mreturn\u001b[39;00m \u001b[39mself\u001b[39m\u001b[39m.\u001b[39m_values[label]\n\u001b[0;32m   1088\u001b[0m \u001b[39m# Similar to Index.get_value, but we do not fall back to positional\u001b[39;00m\n\u001b[1;32m-> 1089\u001b[0m loc \u001b[39m=\u001b[39m \u001b[39mself\u001b[39;49m\u001b[39m.\u001b[39;49mindex\u001b[39m.\u001b[39;49mget_loc(label)\n\u001b[0;32m   1090\u001b[0m \u001b[39mreturn\u001b[39;00m \u001b[39mself\u001b[39m\u001b[39m.\u001b[39mindex\u001b[39m.\u001b[39m_get_values_for_loc(\u001b[39mself\u001b[39m, loc, label)\n",
      "File \u001b[1;32mc:\\Users\\hp\\AppData\\Local\\Programs\\Python\\Python310\\lib\\site-packages\\pandas\\core\\indexes\\range.py:393\u001b[0m, in \u001b[0;36mRangeIndex.get_loc\u001b[1;34m(self, key, method, tolerance)\u001b[0m\n\u001b[0;32m    391\u001b[0m         \u001b[39mreturn\u001b[39;00m \u001b[39mself\u001b[39m\u001b[39m.\u001b[39m_range\u001b[39m.\u001b[39mindex(new_key)\n\u001b[0;32m    392\u001b[0m     \u001b[39mexcept\u001b[39;00m \u001b[39mValueError\u001b[39;00m \u001b[39mas\u001b[39;00m err:\n\u001b[1;32m--> 393\u001b[0m         \u001b[39mraise\u001b[39;00m \u001b[39mKeyError\u001b[39;00m(key) \u001b[39mfrom\u001b[39;00m \u001b[39merr\u001b[39;00m\n\u001b[0;32m    394\u001b[0m \u001b[39mself\u001b[39m\u001b[39m.\u001b[39m_check_indexing_error(key)\n\u001b[0;32m    395\u001b[0m \u001b[39mraise\u001b[39;00m \u001b[39mKeyError\u001b[39;00m(key)\n",
      "\u001b[1;31mKeyError\u001b[0m: 0"
     ]
    }
   ],
   "source": [
    "def  splineCubique(t, parms, a,b):\n",
    "    return 1 + parms[0]*t +parms[1]*t**2+ parms[2]*t**3 +(parms[3]-parms[2])*max((t-a),0)**3 +(parms[4]-parms[3])*max((t-b),0)**3\n",
    "\n",
    "\n",
    "def taux_predict(exp, parms ):\n",
    "    rate=[]\n",
    "    time=[]\n",
    "    n= int(len(exp)/3)\n",
    "    for j in range(n):\n",
    "      tmp= exp[j*3:(j+1)*3]\n",
    "      temp= parms[j*5:(j+1)*5]\n",
    "      print(tmp)\n",
    "      for i in range(3):\n",
    "        rate.append(0)#splineCubique(tmp[i],temp, tmp[1],tmp[2])\n",
    "        time.append(tmp[i])\n",
    "        \n",
    "    return[rate,time] \n",
    "\n",
    "def SSE_cubique(parms):\n",
    "    err=(taux_predict( data[\"days\"]/365 ,parms)[0]-data[\"taux \"])**2\n",
    "    return np.sum(err)\n",
    "\n",
    "parms= np.ones(5*4)*-0.01\n",
    "spline=taux_predict(data[\"days\"]/365 ,parms)\n",
    "plt.scatter(spline[1],spline[0])\n",
    "plt.plot(spline[1],spline[0])\n",
    "\n",
    "#op= least_squares(SSE_cubique,parms)\n",
    "#SSE_cubique(parms)\n",
    "spline[0]"
   ]
  },
  {
   "cell_type": "code",
   "execution_count": 14,
   "metadata": {},
   "outputs": [],
   "source": [
    "def  splineCubique(t, parms, a,b):\n",
    "    return 1 + parms[0]*t +parms[1]*t**2+ parms[2]*t**3 +(parms[3]-parms[2])*max((t-a),0)**3 +(parms[4]-parms[3])*max((t-b),0)**3\n",
    "\n",
    "def taux_predict_(taux, exp, parms ):\n",
    "    rate=[]\n",
    "    time=[]\n",
    "    for i in range(0,len(taux)-3,3):\n",
    "        t=np.arange(exp[i], exp[i+3], abs((exp[i+3]-exp[i])/10))\n",
    "        for j in range(len(t)):\n",
    "            rate.append(splineCubique(j,parms,taux[i+1],taux[i+2]))\n",
    "            time.append(j)\n",
    "\n",
    "    return[rate,time]  \n",
    "\n",
    "def taux_predict(exp, parms ):\n",
    "    rate=[]\n",
    "    time=[]\n",
    "    for i in range(0,len(exp)-3,3):\n",
    "        n=int(i/3)\n",
    "        for j in range(3):\n",
    "            rate.append(splineCubique(exp[i+j],parms[n:(n+1)*5], exp[i+1],exp[i+2]))\n",
    "            time.append(exp[i+j])\n",
    "    rate.append(splineCubique(exp[len(exp)-1],parms,exp[len(exp)-2],exp[len(exp)-3]))\n",
    "    time.append(exp[len(exp)-1])\n",
    "    return[rate,time]\n",
    "\n",
    "\n",
    "def SSE_cubique(parms):\n",
    "    err=(taux_predict( data[\"days\"]/365 ,parms)[0]-data[\"taux \"])**2\n",
    "    return np.sum(err)"
   ]
  },
  {
   "cell_type": "code",
   "execution_count": 17,
   "metadata": {},
   "outputs": [
    {
     "data": {
      "text/plain": [
       "array([0, 3, 6])"
      ]
     },
     "execution_count": 17,
     "metadata": {},
     "output_type": "execute_result"
    }
   ],
   "source": [
    "np.arange(0,len(data[\"days\"])-3,3)"
   ]
  },
  {
   "cell_type": "code",
   "execution_count": 15,
   "metadata": {},
   "outputs": [
    {
     "data": {
      "text/plain": [
       "[0.9982692881802081,\n",
       " 0.9938223008248998,\n",
       " 0.9892033362038163,\n",
       " 0.9539513719965966,\n",
       " 0.3024859053460388,\n",
       " -2.708427292380538,\n",
       " -6.718441207864951,\n",
       " -22.267196635416962,\n",
       " -48.18529430456765,\n",
       " -215.15674442340568]"
      ]
     },
     "execution_count": 15,
     "metadata": {},
     "output_type": "execute_result"
    },
    {
     "data": {
      "image/png": "[encoded data removed]",
      "text/plain": [
       "<Figure size 640x480 with 1 Axes>"
      ]
     },
     "metadata": {},
     "output_type": "display_data"
    }
   ],
   "source": [
    "parms= np.ones(5*3)*-0.01\n",
    "spline=taux_predict(data[\"days\"]/365 ,parms)\n",
    "plt.scatter(spline[1],spline[0])\n",
    "plt.plot(spline[1],spline[0])\n",
    "\n",
    "op= least_squares(SSE_cubique,parms)\n",
    "SSE_cubique(parms)\n",
    "spline[0]"
   ]
  },
  {
   "cell_type": "code",
   "execution_count": 10,
   "metadata": {},
   "outputs": [
    {
     "name": "stdout",
     "output_type": "stream",
     "text": [
      "[-0.00999321 -0.00959486  0.00053316 -0.0109124  -0.00767228 -0.00586763\n",
      " -0.00954803 -0.00952212  0.0004758  -0.0098233  -0.01       -0.01\n",
      " -0.01       -0.01       -0.01      ]\n"
     ]
    },
    {
     "data": {
      "text/plain": [
       "[0.14794520547945206,\n",
       " 0.3972602739726027,\n",
       " 0.5698630136986301,\n",
       " 1.2301369863013698,\n",
       " 3.734246575342466,\n",
       " 6.821917808219178,\n",
       " 8.816438356164383,\n",
       " 12.901369863013699,\n",
       " 16.660273972602738,\n",
       " 27.515068493150686]"
      ]
     },
     "execution_count": 10,
     "metadata": {},
     "output_type": "execute_result"
    },
    {
     "data": {
      "image/png": "[encoded data removed]",
      "text/plain": [
       "<Figure size 640x480 with 1 Axes>"
      ]
     },
     "metadata": {},
     "output_type": "display_data"
    }
   ],
   "source": [
    "op.x,op.fun\n",
    "parms=op.x\n",
    "spline=taux_predict(data[\"days\"]/365, op.x)\n",
    "plt.scatter(spline[1],spline[0])\n",
    "plt.plot(spline[1],spline[0])\n",
    "spline[1]\n"
   ]
  },
  {
   "cell_type": "code",
   "execution_count": null,
   "metadata": {},
   "outputs": [],
   "source": []
  },
  {
   "cell_type": "code",
   "execution_count": 17,
   "metadata": {},
   "outputs": [
    {
     "data": {
      "text/plain": [
       "[-0.011620176469348986,\n",
       " -0.015383371235736965,\n",
       " -0.018668073868662427,\n",
       " -0.03593584086339763,\n",
       " -0.13212356456434426,\n",
       " -0.2031701669720748,\n",
       " -0.21777587451575453,\n",
       " -0.21900988167505275,\n",
       " -0.20945561217162212,\n",
       " -0.17761920444827528]"
      ]
     },
     "execution_count": 17,
     "metadata": {},
     "output_type": "execute_result"
    },
    {
     "data": {
      "image/png": "[encoded data removed]",
      "text/plain": [
       "<Figure size 640x480 with 1 Axes>"
      ]
     },
     "metadata": {},
     "output_type": "display_data"
    }
   ],
   "source": [
    "def  splineCubique0(t, parms, expiration):\n",
    "    sc= 1 + parms[0]*t +parms[1]*t**2+ parms[2]*t**3 \n",
    "    for i in  range(1,len(expiration)-1):\n",
    "        sc=sc+(parms[i+2]-parms[i+1])*max((t-expiration[i]),0)**3 \n",
    "    return sc\n",
    "def taux_predict0( expiration, parms ):\n",
    "    rate=[]\n",
    "    time=[]\n",
    "    for i in expiration:\n",
    "        r=1-(1/splineCubique0(i,parms,expiration))**(1/i)\n",
    "        rate.append(-r)\n",
    "        time.append(i)\n",
    "    return[rate,time]  \n",
    "\n",
    "def SSE_cubique0(parms):\n",
    "    err=(taux_predict0(data[\"days\"] ,parms)[0]-data[\"taux \"])**2\n",
    "    return np.sum(err)\n",
    "\n",
    "parms= 0.01*np.ones(len(data[\"days\"])+3)\n",
    "spline=taux_predict0(data[\"days\"]/365 ,parms)\n",
    "#plt.scatter(spline[1],spline[0])\n",
    "plt.plot(spline[1],spline[0])\n",
    "spline[0]"
   ]
  },
  {
   "cell_type": "code",
   "execution_count": 15,
   "metadata": {},
   "outputs": [
    {
     "name": "stderr",
     "output_type": "stream",
     "text": [
      "C:\\Users\\hp\\AppData\\Local\\Temp\\ipykernel_5792\\2505847958.py:10: RuntimeWarning: invalid value encountered in double_scalars\n",
      "  r=1-(1/splineCubique0(i,parms,expiration))**(1/i)\n"
     ]
    },
    {
     "data": {
      "text/plain": [
       "(array([0.]),\n",
       " array([ 0.00999118,  0.00948052, -0.02604761,  0.00964766,  0.00958068,\n",
       "         0.01      ,  0.01      ,  0.01      ,  0.01      ,  0.01      ,\n",
       "         0.01      ,  0.01      ,  0.01      ]))"
      ]
     },
     "execution_count": 15,
     "metadata": {},
     "output_type": "execute_result"
    }
   ],
   "source": [
    "SSE_cubique0(parms)\n",
    "op=least_squares(SSE_cubique0,parms)\n",
    "op.fun, op.x"
   ]
  },
  {
   "cell_type": "code",
   "execution_count": 16,
   "metadata": {},
   "outputs": [
    {
     "name": "stdout",
     "output_type": "stream",
     "text": [
      "[ 0.00999118  0.00948052 -0.02604761  0.00964766  0.00958068  0.01\n",
      "  0.01        0.01        0.01        0.01        0.01        0.01\n",
      "  0.01      ] [0.]\n"
     ]
    },
    {
     "data": {
      "text/plain": [
       "[-0.010756727480404016,\n",
       " -0.009582054922494976,\n",
       " -0.007215949794423082,\n",
       " 0.0010146637003212167,\n",
       " -0.03389421865976716,\n",
       " -0.13498692570821236,\n",
       " -0.1712580879054102,\n",
       " -0.19505273238963894,\n",
       " -0.1943391833393221,\n",
       " -0.17137766214338568]"
      ]
     },
     "execution_count": 16,
     "metadata": {},
     "output_type": "execute_result"
    },
    {
     "data": {
      "image/png": "[encoded data removed]",
      "text/plain": [
       "<Figure size 640x480 with 1 Axes>"
      ]
     },
     "metadata": {},
     "output_type": "display_data"
    }
   ],
   "source": [
    "print(op.x,op.fun)\n",
    "spline=taux_predict0(data[\"days\"]/365 ,op.x)\n",
    "plt.scatter(spline[1],spline[0])\n",
    "plt.plot(spline[1],spline[0])\n",
    "spline[0]"
   ]
  },
  {
   "cell_type": "code",
   "execution_count": null,
   "metadata": {},
   "outputs": [],
   "source": []
  },
  {
   "cell_type": "markdown",
   "metadata": {},
   "source": [
    "Vacisek"
   ]
  },
  {
   "cell_type": "code",
   "execution_count": null,
   "metadata": {},
   "outputs": [],
   "source": [
    "class SplineCubique(Donnee):\n",
    "    def __init__(self, taux, maturite):\n",
    "        super().__init__(taux, maturite)\n",
    "\n",
    "    def regressionSpline(self, parms):\n",
    "        t=self._maturite\n",
    "        r=t\n",
    "        r1= t**2\n",
    "        r2= t**3- max(t-t[1])**3  \n",
    "        r3=max(t-t[2])**3\n",
    "        taux=1+parms[0]*r+parms[1]*r1+parms[2]*r2+parms[3]*r3\n",
    "        error= np.sum((taux - self._taux)**2)  \n",
    "        return error\n",
    "    def parmsValue(self):\n",
    "        op= minimize(self.regressionSpline,[0.1,0.1,0.1,0.1], tol=0.00001)\n",
    "        return op.x, op.fun, op.success\n",
    "        #Y=pd.concat([r,r1,r2,r3], axis=1, keys=[\"r\",\"r1\",\"r2\",\"r3\"])\n"
   ]
  },
  {
   "cell_type": "code",
   "execution_count": null,
   "metadata": {},
   "outputs": [],
   "source": [
    "def vasicekModel():\n",
    "    N=100\n",
    "    w=np.random.normal(N)\n",
    "\n",
    "    "
   ]
  },
  {
   "cell_type": "code",
   "execution_count": 72,
   "metadata": {},
   "outputs": [
    {
     "name": "stdout",
     "output_type": "stream",
     "text": [
      "6    0.0407\n",
      "7    0.0440\n",
      "8    0.0473\n",
      "9    0.0530\n",
      "Name: taux , dtype: float64\n",
      "(0.7925263616512317, True)\n"
     ]
    }
   ],
   "source": [
    "import pandas as pd \n",
    "import numpy as np \n",
    "import math as ma\n",
    "from scipy.optimize import minimize,least_squares,curve_fit\n",
    "import matplotlib.pyplot as plt\n",
    "from datetime import date, datetime\n",
    "from charger_donnee import Donnee\n",
    "\n",
    "class SplineCubique(Donnee):\n",
    "    def __init__(self, taux, maturite):\n",
    "        super().__init__(taux, maturite/360)\n",
    "        self.pseudomaturite=self._maturite[0:4]\n",
    "        self.pseudotaux= self._maturite[0:4]\n",
    "\n",
    "    def  splineCubique0(self, parms):\n",
    "        t=self._maturite\n",
    "        sc= 1 + parms[0]*t +parms[1]*t**2+ parms[2]*t**3 \n",
    "        for i in  range(1,len(self._maturite)-1):\n",
    "            c=self._maturite[i]\n",
    "            sc=sc+(parms[i+2]-parms[i+1])*np.maximum((t-c),0)**3 \n",
    "        error= np.sum((sc - self._taux)**2)  \n",
    "        return error\n",
    "\n",
    "    def regressionSpline(self, parms,t,taux_):\n",
    "        r2= t**3- np.maximum((t-t[1]),0)**3  \n",
    "        r3=np.maximum((t-t[1]),0)**3\n",
    "        taux=1+parms[0]*t+parms[1]*t**2+parms[2]*r2+parms[3]*r3\n",
    "        error= np.sum((taux - taux_)**2)  \n",
    "        return error\n",
    "    \n",
    "    def parmsValue(self ,n,tau):\n",
    "        op= minimize(self.regressionSpline,np.ones(4)*-0.01, tol=0.00001, args=(n,tau))\n",
    "        #op= minimize(self.splineCubique0,np.ones(len(self._maturite)+2)*-0.01, tol=0.00001)\n",
    "        return op.x, op.fun, op.success, op.message\n",
    " \n",
    "    def plageDeTaux(self,a):\n",
    "        maturite=self._maturite.to_numpy()\n",
    "        for i in range(0, len(self._taux),3):\n",
    "              if i + 4 <= len(self._maturite):\n",
    "               if  (maturite[i]<=a and maturite[i+3]>=a ):\n",
    "                 return self._taux[i:i+4]\n",
    "\n",
    "    def plageDeMaturite(self,a):\n",
    "        maturite=self._maturite.to_numpy()\n",
    "        for i in range(0, len(self._maturite),3):\n",
    "            if i + 4 <= len(self._maturite):\n",
    "              if  (maturite[i]<=a and maturite[i+3]>=a ):\n",
    "                return  self._maturite[i:i+4]\n",
    "\n",
    "    def  splineCubique(self,t):\n",
    "        m=self.plageDeMaturite(t).to_numpy()\n",
    "        tau=self.plageDeTaux(t).to_numpy()\n",
    "        op= minimize(self.regressionSpline,np.ones(4)*-0.01, tol=0.00001, args=(m,tau))\n",
    "        parms=op.x\n",
    "        r2= t**3- np.maximum((t-self.pseudomaturite[1]),0)**3  \n",
    "        r3=np.maximum((t-self.pseudomaturite[1]),0)**3\n",
    "        taux=1+parms[0]*t+parms[1]*t**2+parms[2]*r2+parms[3]*r3\n",
    "        return  taux, op.success\n",
    "     \n",
    "    def plotsplineCubique(self):\n",
    "      plt.plot(self._maturite,self.splineCubique())  \n",
    "      plt.xlabel(\"Maturité\")\n",
    "      plt.ylabel(\"Taux Zéro coupon\")\n",
    "      plt.legend(\"Interpolation spline cubique\")\n",
    "      plt.show()\n",
    "\n",
    "data = pd.read_excel(\"taux_tresor_ex.xlsx\")\n",
    "data[\"days\"]=(data[\"Date echeance\"]-data[\"Date valeur\"])\n",
    "#convert days into int\n",
    "data[\"days\"]=data[\"days\"].dt.total_seconds() /(3600*24)\n",
    "data[\"days\"]=data[\"days\"].astype(int)\n",
    "\n",
    "ntsp=SplineCubique(data[\"taux \"],data[\"days\"])\n",
    "\n",
    "#print(ntsp.splineCubique0(np.ones(12)*0.1))\n",
    "#print(ntsp.parmsValue(ntsp.plageDeMaturite(2), ntsp.plageDeTaux(2)))\n",
    "print(ntsp.plageDeTaux(9))\n",
    "print(ntsp.splineCubique(9.8))\n"
   ]
  }
 ],
 "metadata": {
  "kernelspec": {
   "display_name": "Python 3",
   "language": "python",
   "name": "python3"
  },
  "language_info": {
   "codemirror_mode": {
    "name": "ipython",
    "version": 3
   },
   "file_extension": ".py",
   "mimetype": "text/x-python",
   "name": "python",
   "nbconvert_exporter": "python",
   "pygments_lexer": "ipython3",
   "version": "3.10.6"
  },
  "orig_nbformat": 4
 },
 "nbformat": 4,
 "nbformat_minor": 2
}
